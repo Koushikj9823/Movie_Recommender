{
 "cells": [
  {
   "cell_type": "code",
   "execution_count": 1,
   "metadata": {},
   "outputs": [],
   "source": [
    "#importing essential libraries\n",
    "import numpy as np\n",
    "import pandas as pd\n"
   ]
  },
  {
   "cell_type": "code",
   "execution_count": 2,
   "metadata": {},
   "outputs": [
    {
     "name": "stdout",
     "output_type": "stream",
     "text": [
      "       Matrix   Alien   Star_wars   Csablanca   Titanic\n",
      "Joe         1       1           1           0         0\n",
      "jim         3       3           3           0         0\n",
      "john        4       4           4           0         0\n",
      "jack        5       5           5           0         0\n",
      "jill        0       0           0           4         4\n",
      "jenny       0       0           0           5         5\n",
      "jane        0       0           0           2         2\n"
     ]
    }
   ],
   "source": [
    "#Read the dataset\n",
    "data = pd.read_csv('Dataset.txt')\n",
    "print(data)"
   ]
  },
  {
   "cell_type": "code",
   "execution_count": 3,
   "metadata": {},
   "outputs": [
    {
     "name": "stdout",
     "output_type": "stream",
     "text": [
      "['Joe', 'jim', 'john', 'jack', 'jill', 'jenny', 'jane']\n",
      "[[1 1 1 0 0]\n",
      " [3 3 3 0 0]\n",
      " [4 4 4 0 0]\n",
      " [5 5 5 0 0]\n",
      " [0 0 0 4 4]\n",
      " [0 0 0 5 5]\n",
      " [0 0 0 2 2]]\n"
     ]
    }
   ],
   "source": [
    "users = list(data.index)\n",
    "print(users)\n",
    "M = [list(data.iloc[i]) for i in range(len(users))]\n",
    "M = np.matrix(M,dtype=int)\n",
    "print(M)"
   ]
  },
  {
   "cell_type": "code",
   "execution_count": 4,
   "metadata": {},
   "outputs": [],
   "source": [
    "def Recomender_SVD(M,dimension):\n",
    "    #To calculate the orthonormal vector U\n",
    "    vsu = np.dot(M,M.T)\n",
    "    #Get eigen values and vectors\n",
    "    eigen_value,eigen_vectors = np.linalg.eig(vsu)\n",
    "    #It sorts the eigen_values in ascending values\n",
    "    sort_indices = eigen_value.argsort()[::-1]\n",
    "    eigen_value = eigen_value[sort_indices]\n",
    "    #Sort and reduce U to nXdim\n",
    "    U=eigen_vectors[:,sort_indices]\n",
    "    U=U[:,0:dimension]\n",
    "    U=np.real(U)\n",
    "    \n",
    "    #To calculate sigma(consists of eigen values)\n",
    "    sigma=np.sqrt(abs(eigen_value))\n",
    "    \n",
    "   #Energy retained\n",
    "    energy_density=np.sum(np.square(sigma))\n",
    "    sigma=sigma[0:dimension]\n",
    "    energy_num=np.sum(np.square(sigma))\n",
    "    sigma=np.around(sigma,decimals=2)\n",
    "    \n",
    "    #Here we are checking whether the dimension chosen is optimal or >90% by dividing energy_num with energy_density\n",
    "    print(\"Energy= \",energy_num/energy_density) \n",
    "    \n",
    "    #Here we are calculating the orthonormal vector V \n",
    "    vsu = np.dot(M.T,M)\n",
    "    eigen_value,eigen_vector=np.linalg.eig(vsu)\n",
    "    sort_indices=eigen_value.argsort()[::-1]\n",
    "    V=eigen_vector[:,sort_indices]\n",
    "    V=V[:,0:dimension]\n",
    "    V=np.real(V)\n",
    "    \n",
    "    return U,sigma,V\n",
    "    "
   ]
  },
  {
   "cell_type": "code",
   "execution_count": 5,
   "metadata": {},
   "outputs": [
    {
     "name": "stdout",
     "output_type": "stream",
     "text": [
      "Energy=  1.0\n",
      "\n",
      "U [[-0.14002801  0.        ]\n",
      " [-0.42008403  0.        ]\n",
      " [-0.56011203  0.        ]\n",
      " [-0.70014004  0.        ]\n",
      " [ 0.          0.59628479]\n",
      " [ 0.          0.74535599]\n",
      " [ 0.          0.2981424 ]]\n",
      "\n",
      " sigma  [12.37  9.49]\n",
      "\n",
      " V.Trans  [[0.57735027 0.57735027 0.57735027 0.         0.        ]\n",
      " [0.         0.         0.         0.70710678 0.70710678]]\n"
     ]
    }
   ],
   "source": [
    "U,sigma,V=Recomender_SVD(M,2)\n",
    "\n",
    "print(\"\\nU\", U)\n",
    "print(\"\\n sigma \", sigma)\n",
    "print(\"\\n V.Trans \", V.T)\n"
   ]
  },
  {
   "cell_type": "code",
   "execution_count": 6,
   "metadata": {},
   "outputs": [
    {
     "name": "stdout",
     "output_type": "stream",
     "text": [
      "[[1.00005523 1.00005523 1.00005523 0.         0.        ]\n",
      " [3.00016568 3.00016568 3.00016568 0.         0.        ]\n",
      " [4.00022091 4.00022091 4.00022091 0.         0.        ]\n",
      " [5.00027614 5.00027614 5.00027614 0.         0.        ]\n",
      " [0.         0.         0.         4.00133533 4.00133533]\n",
      " [0.         0.         0.         5.00166917 5.00166917]\n",
      " [0.         0.         0.         2.00066767 2.00066767]]\n",
      "[[1 1 1 0 0]\n",
      " [3 3 3 0 0]\n",
      " [4 4 4 0 0]\n",
      " [5 5 5 0 0]\n",
      " [0 0 0 4 4]\n",
      " [0 0 0 5 5]\n",
      " [0 0 0 2 2]]\n"
     ]
    }
   ],
   "source": [
    "sigma = np.diag(sigma) #Converting into diagonal matrix where the diagonal elements are eigen values\n",
    "SVD_M = abs(np.dot(np.dot(U,sigma),V.T))\n",
    "print(SVD_M)\n",
    "print(M)"
   ]
  },
  {
   "cell_type": "code",
   "execution_count": 7,
   "metadata": {},
   "outputs": [],
   "source": [
    "#Queries Using the Singular-Value Decomposition\n",
    "def Query(Q,V):\n",
    "    USV = np.dot(Q,V)\n",
    "    print(\"V  :\",V)\n",
    "    print(abs(USV))\n",
    "    queried=np.dot(USV,V.T)\n",
    "    print('\\n',abs(queried))\n",
    "    return"
   ]
  },
  {
   "cell_type": "code",
   "execution_count": 8,
   "metadata": {},
   "outputs": [
    {
     "name": "stdout",
     "output_type": "stream",
     "text": [
      "V  : [[0.57735027 0.        ]\n",
      " [0.57735027 0.        ]\n",
      " [0.57735027 0.        ]\n",
      " [0.         0.70710678]\n",
      " [0.         0.70710678]]\n",
      "[[4.04145188 0.        ]]\n",
      "\n",
      " [[2.33333333 2.33333333 2.33333333 0.         0.        ]]\n"
     ]
    }
   ],
   "source": [
    "Q = [0,3,4,0,0] #User rating of the person who watches action-scifi movies\n",
    "Query(Q,V)"
   ]
  },
  {
   "cell_type": "code",
   "execution_count": 11,
   "metadata": {},
   "outputs": [
    {
     "name": "stdout",
     "output_type": "stream",
     "text": [
      "V  : [[0.57735027 0.        ]\n",
      " [0.57735027 0.        ]\n",
      " [0.57735027 0.        ]\n",
      " [0.         0.70710678]\n",
      " [0.         0.70710678]]\n",
      "[[0.         3.53553391]]\n",
      "\n",
      " [[0.  0.  0.  2.5 2.5]]\n"
     ]
    }
   ],
   "source": [
    "Q = [0,0,0,3,2] #User rating of the person who watches romantic movies\n",
    "Query(Q,V)"
   ]
  },
  {
   "cell_type": "code",
   "execution_count": null,
   "metadata": {},
   "outputs": [],
   "source": []
  }
 ],
 "metadata": {
  "kernelspec": {
   "display_name": "Python 3",
   "language": "python",
   "name": "python3"
  },
  "language_info": {
   "codemirror_mode": {
    "name": "ipython",
    "version": 3
   },
   "file_extension": ".py",
   "mimetype": "text/x-python",
   "name": "python",
   "nbconvert_exporter": "python",
   "pygments_lexer": "ipython3",
   "version": "3.6.5"
  }
 },
 "nbformat": 4,
 "nbformat_minor": 2
}
